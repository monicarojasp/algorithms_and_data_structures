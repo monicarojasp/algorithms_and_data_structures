{
 "cells": [
  {
   "cell_type": "markdown",
   "metadata": {},
   "source": [
    "# Practice Interview\n",
    "\n",
    "## Objective\n",
    "\n",
    "_*The partner assignment aims to provide participants with the opportunity to practice coding in an interview context. You will analyze your partner's Assignment 1. Moreover, code reviews are common practice in a software development team. This assignment should give you a taste of the code review process.*_\n",
    "\n",
    "## Group Size\n",
    "\n",
    "Each group should have 2 people. You will be assigned a partner\n",
    "\n",
    "## Part 1:\n",
    "\n",
    "You and your partner must share each other's Assignment 1 submission."
   ]
  },
  {
   "cell_type": "markdown",
   "metadata": {},
   "source": [
    "\n",
    "## Part 2:\n",
    "\n",
    "Create a Jupyter Notebook, create 6 of the following headings, and complete the following for your partner's assignment 1:\n",
    "\n",
    "-   Paraphrase the problem in your own words.\n"
   ]
  },
  {
   "cell_type": "markdown",
   "metadata": {},
   "source": [
    "For this excersise the input is a list that contains n numbers of integers in a specific range from 0 to n where n is the maximum number. The code will have to check if there is any missing number. It will have to return a list with the missing numbers (if there are missing numbers), if all the numbers in the range are in the list the code will have to return -1. In this exercise the input list may have numbers that are repeated."
   ]
  },
  {
   "cell_type": "markdown",
   "metadata": {},
   "source": [
    "\n",
    "-   Create 1 new example that demonstrates you understand the problem. Trace/walkthrough 1 example that your partner made and explain it.\n"
   ]
  },
  {
   "cell_type": "markdown",
   "metadata": {},
   "source": [
    "My example:\n",
    "Input: lst = [3, 12, 11, 5, 10, 8, 1, 15, 4, 7, 0, 2, 14, 6, 13, 9]\n",
    "\n",
    "output: -1\n",
    "\n",
    "Example 4 from my partner's home work:\n",
    "In this example a list lst = [1, 3, 4, 4, 5] is given, here 0 and 2 are missing the code will have to return this numbers."
   ]
  },
  {
   "cell_type": "markdown",
   "metadata": {},
   "source": [
    "\n",
    "-   Copy the solution your partner wrote. \n"
   ]
  },
  {
   "cell_type": "code",
   "execution_count": 1,
   "metadata": {},
   "outputs": [],
   "source": [
    "def missing_num(nums: list) -> list:\n",
    "    if len(nums) == 0:\n",
    "        return -1\n",
    "    \n",
    "    n = max(nums)\n",
    "    full_range = set(range(n + 1))\n",
    "    nums_set = set(nums)\n",
    "    missing_numbers = sorted(list(full_range - nums_set))\n",
    "    \n",
    "    return -1 if len(missing_numbers) == 0 else missing_numbers"
   ]
  },
  {
   "cell_type": "markdown",
   "metadata": {},
   "source": [
    "\n",
    "-   Explain why their solution works in your own words.\n"
   ]
  },
  {
   "cell_type": "markdown",
   "metadata": {},
   "source": [
    "This function works because first it checks if the list 'nums' is empty, if empty it returns -1, that is the base. Then it looks for the maximum value in the list, so the upper bound of the list. Then it creates a set using a range from 0 to the upper bound plus 1 so it includes the upper bound. 'nums_set' is a set containing unique elements from the list nums. This conversion ensures that the function handles duplicates correctly and benefit from set operations.\n",
    "\n",
    "In the next step full_range - nums_set computes the set difference between full_range and nums_set. This operation results in a set containing numbers from 0 to n that are not present in nums, and the sort it to a list.\n",
    "\n",
    "The funtion returns -1 when the missing numbers is empty, and the missing values list when there are values.\n"
   ]
  },
  {
   "cell_type": "markdown",
   "metadata": {},
   "source": [
    "\n",
    "-   Explain the problem’s time and space complexity in your own words.\n"
   ]
  },
  {
   "cell_type": "markdown",
   "metadata": {},
   "source": [
    "To compute the missing numbers the functions needs to go through all the elements in full_range set (size n) O(n), and all the elements of nums_set (size m) O(m), so overal space complexity is O(n+m).\n",
    "\n",
    "For the the time complexity the funtion need to find the maximum value n O(m), it needs to generate the two sets O(n+m), it need to sort O(n log n). So overal the time complexity is O(nlogn) due to the sorting step."
   ]
  },
  {
   "cell_type": "markdown",
   "metadata": {},
   "source": [
    "\n",
    "-   Critique your partner's solution, including explanation, and if there is anything that should be adjusted.\n"
   ]
  },
  {
   "cell_type": "markdown",
   "metadata": {},
   "source": [
    "While the function do the job, recuersion or a in-place marking method would have been better in terms of time and space complexity respectively. "
   ]
  },
  {
   "cell_type": "markdown",
   "metadata": {},
   "source": [
    "\n",
    "## Part 3:\n",
    "\n",
    "Please write a 200 word reflection documenting your process from assignment 1, and your presentation and review experience with your partner at the bottom of the Jupyter Notebook under a new heading \"Reflection.\" Again, export this Notebook as pdf.\n"
   ]
  },
  {
   "cell_type": "markdown",
   "metadata": {},
   "source": [
    "### Reflection"
   ]
  },
  {
   "cell_type": "markdown",
   "metadata": {},
   "source": [
    "The assignments on algorithms and data structures were very useful to apply what we learned during our discussion sessions. In my case, assignment 1 involved implementing the is_duplicate function to detect duplicate values in a binary tree. To optimize the function's efficiency in terms of time and space, I focused on processing only essential information. Given that the task required identifying any duplicate closer to the root, I returned only the first duplicate found by the function. By using recursion and the 'visited' set, I was making sure that each node was processed exactly once, allowing me to effectively detect duplicates across various levels of the tree.\n",
    "\n",
    "By analyzing my partner's assignment provided insights into how different methods can impact time and space complexities. These exercises underscored the critical role of selecting appropriate data structures such as lists, sets, and binary trees tailored to specific problem requirements and algorithms. Through practical application, I gained a deeper understanding of fundamental concepts covered in our coursework.\n",
    "\n",
    "Overall, these assignments deepened my appreciation for the strategic decisions involved in selecting algorithms and data structures to optimize code performance. They also provided an opportunity to evaluate and compare different approaches to solving coding problems.\n"
   ]
  },
  {
   "cell_type": "markdown",
   "metadata": {},
   "source": [
    "\n",
    "## Evaluation Criteria\n",
    "\n",
    "We are looking for the similar points as Assignment 1\n",
    "\n",
    "-   Problem is accurately stated\n",
    "\n",
    "-   New example is correct and easily understandable\n",
    "\n",
    "-   Correctness, time, and space complexity of the coding solution\n",
    "\n",
    "-   Clarity in explaining why the solution works, its time and space complexity\n",
    "\n",
    "-   Quality of critique of your partner's assignment, if necessary\n"
   ]
  },
  {
   "cell_type": "markdown",
   "metadata": {},
   "source": [
    "## Submission Information\n",
    "\n",
    "🚨 **Please review our [Assignment Submission Guide](https://github.com/UofT-DSI/onboarding/blob/main/onboarding_documents/submissions.md)** 🚨 for detailed instructions on how to format, branch, and submit your work. Following these guidelines is crucial for your submissions to be evaluated correctly.\n",
    "\n",
    "### Submission Parameters:\n",
    "* Submission Due Date: `HH:MM AM/PM - DD/MM/YYYY`\n",
    "* The branch name for your repo should be: `assignment-2`\n",
    "* What to submit for this assignment:\n",
    "    * This Jupyter Notebook (assignment_2.ipynb) should be populated and should be the only change in your pull request.\n",
    "* What the pull request link should look like for this assignment: `https://github.com/<your_github_username>/algorithms_and_data_structures/pull/<pr_id>`\n",
    "    * Open a private window in your browser. Copy and paste the link to your pull request into the address bar. Make sure you can see your pull request properly. This helps the technical facilitator and learning support staff review your submission easily.\n",
    "\n",
    "Checklist:\n",
    "- [ ] Created a branch with the correct naming convention.\n",
    "- [ ] Ensured that the repository is public.\n",
    "- [ ] Reviewed the PR description guidelines and adhered to them.\n",
    "- [ ] Verify that the link is accessible in a private browser window.\n",
    "\n",
    "If you encounter any difficulties or have questions, please don't hesitate to reach out to our team via our Slack at `#cohort-3-help`. Our Technical Facilitators and Learning Support staff are here to help you navigate any challenges.\n"
   ]
  }
 ],
 "metadata": {
  "kernelspec": {
   "display_name": "dsi_participant",
   "language": "python",
   "name": "python3"
  },
  "language_info": {
   "codemirror_mode": {
    "name": "ipython",
    "version": 3
   },
   "file_extension": ".py",
   "mimetype": "text/x-python",
   "name": "python",
   "nbconvert_exporter": "python",
   "pygments_lexer": "ipython3",
   "version": "3.9.18"
  }
 },
 "nbformat": 4,
 "nbformat_minor": 2
}
