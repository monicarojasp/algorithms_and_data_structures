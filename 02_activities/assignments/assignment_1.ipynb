{
 "cells": [
  {
   "cell_type": "markdown",
   "metadata": {},
   "source": [
    "# Coding Problems\n",
    "\n",
    "## Objective\n",
    "\n",
    "This assignment aims to demonstrate how to study a data structures or algorithms question in depth to prepare for an industry coding interview. Leetcode is a popular coding practice site that many use to practice for technical interviews. Like behavioral interviews, it's important to practice and keep your skills sharp.\n",
    "\n",
    "## Group Size\n",
    "\n",
    "Please complete this individually.\n",
    "\n",
    "## Part 1:\n",
    "\n",
    "_*You will be assigned one of three problems based of your first name. Execute the code below, and that will tell you your assigned problem. Include the output as part of your submission (do not clear the output). The problems are based-off problems from Leetcode.*_\n"
   ]
  },
  {
   "cell_type": "code",
   "execution_count": 1,
   "metadata": {},
   "outputs": [
    {
     "name": "stdout",
     "output_type": "stream",
     "text": [
      "1\n"
     ]
    }
   ],
   "source": [
    "print((hash('Monica') % 3) + 1)"
   ]
  },
  {
   "cell_type": "markdown",
   "metadata": {},
   "source": [
    "<details>\n",
    "  <summary>Question 1</summary>\n",
    "\n",
    "  # Question One: Check Duplicates in Tree\n",
    "\n",
    "  Given the `root` of a binary tree, check whether it is contains a duplicate value. If a duplicate exists, return the duplicate value. If there are multiple duplicates, return the one with the closest distance to the root. If no duplicate exists, return -1.\n",
    "\n",
    "  ## Examples\n",
    "\n",
    "  ### Example 1\n",
    "\n",
    "  ![](./images/q1_ex1.png)\n",
    "\n",
    "  Input: `root = [1, 2, 2, 3, 5, 6, 7]` *What traversal method is this?* Answer/ BFS Level order traversal\n",
    "\n",
    "  Output: 2\n",
    "\n",
    "  ### Example 2\n",
    "\n",
    "  ![](./images/q1_ex2.png)\n",
    "\n",
    "  Input: `root = [1, 10, 2, 3, 10, 12, 12]`\n",
    "\n",
    "  Output: 10\n",
    "\n",
    "  ### Example 3\n",
    "\n",
    "  ![](./images/q1_ex3.png)\n",
    "\n",
    "  Input: `root = [10, 9, 8, 7]`\n",
    "\n",
    "  Output: -1\n",
    "\n",
    "</details>\n",
    "\n",
    "#### Starter Code for Question 1"
   ]
  },
  {
   "cell_type": "code",
   "execution_count": 26,
   "metadata": {},
   "outputs": [],
   "source": [
    "# Definition for a binary tree node.\n",
    "class TreeNode(object):\n",
    "    def __init__(self, val = 0, left = None, right = None):\n",
    "        self.val = val\n",
    "        self.left = left\n",
    "        self.right = right\n",
    "def is_duplicate(root: TreeNode) -> int:"
   ]
  },
  {
   "cell_type": "markdown",
   "metadata": {},
   "source": [
    "<details>\n",
    "  <summary>Question 2</summary>\n",
    "\n",
    "  # Question Two: Path to Leaves\n",
    "\n",
    "  Given the `root` of a binary tree, return all root to leaf paths in any order.\n",
    "\n",
    "  ## Examples\n",
    "\n",
    "  ### Example 1\n",
    "\n",
    "  ![](./images/q1_ex1.png)\n",
    "\n",
    "  Input: `root = [1, 2, 2, 3, 5, 6, 7]` *What traversal method is this?*\n",
    "\n",
    "  Output: [[1, 2, 3], [1, 2, 5], [1, 2, 6], [1, 2, 7]]\n",
    "\n",
    "  ### Example 2\n",
    "\n",
    "  ![](./images/q1_ex3.png)\n",
    "\n",
    "  Input: `root = [10, 9, 7, 8]`\n",
    "\n",
    "  Output: [[10, 7], [10, 9, 8]]\n",
    "\n",
    "</details>\n",
    "\n",
    "#### Starter Code for Question 2"
   ]
  },
  {
   "cell_type": "code",
   "execution_count": null,
   "metadata": {},
   "outputs": [],
   "source": [
    "# Definition for a binary tree node.\n",
    "# class TreeNode(object):\n",
    "#     def __init__(self, val = 0, left = None, right = None):\n",
    "#         self.val = val\n",
    "#         self.left = left\n",
    "#         self.right = right\n",
    "def bt_path(root: TreeNode) -> List[List[int]]:\n",
    "  # TODO"
   ]
  },
  {
   "cell_type": "markdown",
   "metadata": {},
   "source": [
    "<details>\n",
    "  <summary>Question 3</summary>\n",
    "\n",
    "  # Question Three: Missing Number in Range\n",
    " \n",
    "  You are given a list containing `n` integers in the range `[0, n]`. Return a list of numbers that are missing from the range `[0, n]` of the array. If there is no missing number, return -1. Note, all the integers in the list may not be unique.\n",
    "  \n",
    "  ## Examples\n",
    "\n",
    "  ### Example 1\n",
    "\n",
    "  Input: `lst = [0, 2]`\n",
    "\n",
    "  Output: [1]\n",
    "\n",
    "  ### Example 2\n",
    "\n",
    "  Input: `lst = [5, 0, 1]`\n",
    "\n",
    "  Output: [2, 3, 4]\n",
    "\n",
    "  ### Example 3\n",
    "\n",
    "  Input: `lst = [6, 8, 2, 3, 5, 7, 0, 1, 10]`\n",
    "\n",
    "  Output: [4, 9]\n",
    "\n",
    "</details>\n",
    "\n",
    "#### Starter Code for Question 3\n"
   ]
  },
  {
   "cell_type": "code",
   "execution_count": null,
   "metadata": {},
   "outputs": [],
   "source": [
    "def missing_num(nums: List) -> int:\n",
    "  # TODO"
   ]
  },
  {
   "cell_type": "markdown",
   "metadata": {},
   "source": [
    "\n",
    "## Part 2:\n",
    "\n",
    "-   Paraphrase the problem in your own words\n"
   ]
  },
  {
   "cell_type": "markdown",
   "metadata": {},
   "source": [
    "I am given a binary tree with nodes containing numbers. What I need to do is check if there's any number that appears more than once in the tree. But there ar a couple of conditions: \n",
    "\n",
    "1. If I find a number that is present twice, I need to return that number. \n",
    "2. If there are multiple numbers that are duplicated, I only need to return the one that is closest to the root. \n",
    "\n",
    "If the search doen's find any duplicates, then I need to return -1 to indicate that there are no duplicates in the tree."
   ]
  },
  {
   "cell_type": "markdown",
   "metadata": {},
   "source": [
    "\n",
    "-   In the .md file containing your problem, there are examples that illustrate how the code should work. Create 2 new examples that demonstrate you understand the problem.\n"
   ]
  },
  {
   "cell_type": "code",
   "execution_count": null,
   "metadata": {},
   "outputs": [],
   "source": [
    "#### Example 1\n",
    "\n",
    "    1\n",
    "   / \\\n",
    "  2   3\n",
    " / \\\n",
    "4   2  <- Duplicate value\n",
    "\n",
    "Input: `root = [1, 2, 3, 4, 2]`\n",
    "\n",
    "Output: 2\n",
    "\n",
    "#### Example 2\n",
    "\n",
    "     2\n",
    "   /   \\\n",
    "  6     9\n",
    " / \\   / \\ \n",
    "4   3 5   1\n",
    "\n",
    "Input: `root = [2, 6, 9, 4, 3, 5, 1]`\n",
    "\n",
    "Output: -1\n"
   ]
  },
  {
   "cell_type": "markdown",
   "metadata": {},
   "source": [
    "\n",
    "-   Code the solution to your assigned problem in Python (code chunk). Try to find the best time and space complexity solution!\n"
   ]
  },
  {
   "cell_type": "code",
   "execution_count": null,
   "metadata": {},
   "outputs": [],
   "source": [
    "class TreeNode(object):\n",
    "    def __init__(self, val = 0, left = None, right = None):\n",
    "        self.val = val\n",
    "        self.left = left\n",
    "        self.right = right\n",
    "def is_duplicate(root: TreeNode) -> int:\n",
    "    def find_duplicate(node, visited): #current node, track of values of nodes that have been visited\n",
    "        if not node: \n",
    "            return -1 \n",
    "        \n",
    "        if node.val in visited: \n",
    "            return node.val \n",
    "        \n",
    "        visited.add(node.val)\n",
    "        \n",
    "        left_duplicate = find_duplicate(node.left, visited)\n",
    "        if left_duplicate != -1:\n",
    "            return left_duplicate\n",
    "        \n",
    "        right_duplicate = find_duplicate(node.right, visited)\n",
    "        if right_duplicate != -1:\n",
    "            return right_duplicate\n",
    "        \n",
    "        return -1  # No duplicates found in subtree\n",
    "    \n",
    "    visited = set()\n",
    "    return find_duplicate(root, visited)"
   ]
  },
  {
   "cell_type": "code",
   "execution_count": 38,
   "metadata": {},
   "outputs": [],
   "source": [
    "# Create a sample binary tree\n",
    "root = TreeNode(1)\n",
    "root.left = TreeNode(10)\n",
    "root.right = TreeNode(2)\n",
    "root.left.left = TreeNode(3)\n",
    "root.left.right = TreeNode(10)\n",
    "root.right.left = TreeNode(12)\n",
    "root.right.right = TreeNode(12)\n"
   ]
  },
  {
   "cell_type": "code",
   "execution_count": 39,
   "metadata": {},
   "outputs": [
    {
     "name": "stdout",
     "output_type": "stream",
     "text": [
      "10\n"
     ]
    }
   ],
   "source": [
    "#Testing the function\n",
    "print(is_duplicate(root))  "
   ]
  },
  {
   "cell_type": "markdown",
   "metadata": {},
   "source": [
    "\n",
    "-   Explain why your solution works\n"
   ]
  },
  {
   "cell_type": "markdown",
   "metadata": {},
   "source": [
    "#### Explanation: \n",
    "\n",
    "Since I only need to return the duplicate closest to the root, that means the one that appears in the shallowest level of the tree, so I am using a depth-first search (DFS) - Level order traversal approach. \n",
    "\n",
    "The \"is_duplicate\" function takes a root parameter of type TreeNode.This fucntion returns an integer value of the first duplicate found. If no duplicates are found, it returns -1.\n",
    "\n",
    "1. Initializes an empty set visited to keep track of visited node values.\n",
    "2. Calls \"find_duplicate\" inner function (root, visited) to initiate the search for duplicates starting from the root node.\n",
    "3. Returns the result of find_duplicate, which is either the first duplicate value found or -1 if no duplicates are found.\n",
    "\n",
    "The inner function \"find_duplicate\" takes the node (current node being examined) and the visited (which is a set that keeps track of values of nodes that have been visited) parameters. This function returns -1 if no duplicates are found in the subtree rooted at node. If a duplicate is found, it returns the value of the duplicate.\n",
    "\n",
    "1. It checks if node is None. If it is, it returns -1, indicating no duplicate found.\n",
    "2. Checks if node.val is already in the visited set. If it is, it returns node.val, indicating a duplicate value found.\n",
    "3. Adds node.val to the visited set to mark it as visited.\n",
    "4. Recursively calls itself (find_duplicate) on the left and right children of node. If a duplicate is found in the left subtree (left_duplicate != -1), it returns the duplicate value. If a duplicate is found in the right subtree (right_duplicate != -1), it returns the duplicate value. If no duplicates are found in both subtrees, it returns -1.\n"
   ]
  },
  {
   "cell_type": "markdown",
   "metadata": {},
   "source": [
    "\n",
    "-   Explain the problem’s time and space complexity\n"
   ]
  },
  {
   "cell_type": "markdown",
   "metadata": {},
   "source": [
    "Time Complexity: Is O(n) where n is the number of nodes in the binary tree. This reflects the linear time complexity due to the single traversal of all nodes.\n",
    "\n",
    "Space Complexity: Is O(n) due to the recursive call stack and the visited set storing up to n values in the worst case."
   ]
  },
  {
   "cell_type": "markdown",
   "metadata": {},
   "source": [
    "\n",
    "-   Explain the thinking to an alternative solution (no coding required, but a classmate reading this should be able to code it up based off your text)\n"
   ]
  },
  {
   "cell_type": "markdown",
   "metadata": {},
   "source": [
    "#### Alternative solution:\n",
    "1. **TreeNode Class:** \n",
    "Define TreeNode Class that epresent nodes in a binary tree. Each node has a value (val) and pointers to left and right children (left and right).\n",
    "\n",
    "2. from collections import the deque function \n",
    "\n",
    "3. **is_duplicate Function:** \n",
    "Define the is_duplicate function with parameter root - The root node of the binary tree (TreeNode).\n",
    "The function starts by checking if the root is None. If it is, returns -1 indicating no duplicates.\n",
    "Initialize an empty 'visited' set to keep track of visited node values.\n",
    "Create a 'queue' object that uses deque initialized with the root node for iterative BFS traversal.\n",
    "\n",
    "Now we can use a BFS approache to iterate through the three:\n",
    "\n",
    "4. Iteration: The function enter a while loop that continues as long as queue is not empty.\n",
    "5. Dequeue Operation: use queue.popleft() to remove and return the leftmost node from the deque, node, simulating the behavior of a queue where the oldest added node is processed first (FIFO).\n",
    "6. Duplicate Check: create a conditional that checks if node.val (the value of the current node) is already in the visited set. If it is, this means a duplicate value has been found, so the function returns node.val.\n",
    "7. Mark as Visited: Adds the value of the node (node.val) to the visited set to mark it as visited and prevent re-processing.\n",
    "8. Enqueue Children: create a conditional to check if node has a left child (node.left), then add it to the back of queue using queue.append(node.left). Similarly, create a condition to check if node has a right child (node.right), then add it to the back of queue using queue.append(node.right).\n",
    "9. Finally if the while loop completes without finding any duplicates (queue becomes empty), the function returns -1 indicating that no duplicates were found in the tree.\n",
    "\n",
    "I hope it is clear. :)"
   ]
  },
  {
   "cell_type": "markdown",
   "metadata": {},
   "source": [
    "## Evaluation Criteria\n",
    "\n",
    "-   Problem is accurately stated\n",
    "\n",
    "-   Two examples are correct and easily understandable\n",
    "\n",
    "-   Correctness, time, and space complexity of the coding solution\n",
    "\n",
    "-   Clarity in explaining why the solution works, its time and space complexity\n",
    "\n",
    "-   Clarity in the proposal to the alternative solution"
   ]
  },
  {
   "cell_type": "markdown",
   "metadata": {},
   "source": [
    "## Submission Information\n",
    "\n",
    "🚨 **Please review our [Assignment Submission Guide](https://github.com/UofT-DSI/onboarding/blob/main/onboarding_documents/submissions.md)** 🚨 for detailed instructions on how to format, branch, and submit your work. Following these guidelines is crucial for your submissions to be evaluated correctly.\n",
    "\n",
    "### Submission Parameters:\n",
    "* Submission Due Date: `HH:MM AM/PM - DD/MM/YYYY`\n",
    "* The branch name for your repo should be: `assignment-1`\n",
    "* What to submit for this assignment:\n",
    "    * This Jupyter Notebook (assignment_1.ipynb) should be populated and should be the only change in your pull request.\n",
    "* What the pull request link should look like for this assignment: `https://github.com/<your_github_username>/algorithms_and_data_structures/pull/<pr_id>`\n",
    "    * Open a private window in your browser. Copy and paste the link to your pull request into the address bar. Make sure you can see your pull request properly. This helps the technical facilitator and learning support staff review your submission easily.\n",
    "\n",
    "Checklist:\n",
    "- [ ] Create a branch called `assignment-1`.\n",
    "- [ ] Ensure that the repository is public.\n",
    "- [ ] Review [the PR description guidelines](https://github.com/UofT-DSI/onboarding/blob/main/onboarding_documents/submissions.md#guidelines-for-pull-request-descriptions) and adhere to them.\n",
    "- [ ] Verify that the link is accessible in a private browser window.\n",
    "\n",
    "If you encounter any difficulties or have questions, please don't hesitate to reach out to our team via our Slack at `#cohort-3-help`. Our Technical Facilitators and Learning Support staff are here to help you navigate any challenges."
   ]
  }
 ],
 "metadata": {
  "kernelspec": {
   "display_name": "Python 3",
   "language": "python",
   "name": "python3"
  },
  "language_info": {
   "codemirror_mode": {
    "name": "ipython",
    "version": 3
   },
   "file_extension": ".py",
   "mimetype": "text/x-python",
   "name": "python",
   "nbconvert_exporter": "python",
   "pygments_lexer": "ipython3",
   "version": "3.9.18"
  }
 },
 "nbformat": 4,
 "nbformat_minor": 2
}
